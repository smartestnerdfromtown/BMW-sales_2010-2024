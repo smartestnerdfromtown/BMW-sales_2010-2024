{
 "cells": [
  {
   "cell_type": "code",
   "execution_count": 1,
   "metadata": {},
   "outputs": [],
   "source": [
    "from pyspark.sql import SparkSession\n",
    "from pyspark.sql.types import (\n",
    "    StructType,\n",
    "    StructField,\n",
    "    StringType,\n",
    "    IntegerType,\n",
    "    DoubleType,\n",
    ")"
   ]
  },
  {
   "cell_type": "code",
   "execution_count": 7,
   "metadata": {},
   "outputs": [],
   "source": [
    "spark = SparkSession.builder.appName(\"BMW Sales Analysis\").getOrCreate()\n",
    "spark.sparkContext.setLogLevel(\"ERROR\")"
   ]
  },
  {
   "cell_type": "code",
   "execution_count": 8,
   "metadata": {},
   "outputs": [],
   "source": [
    "schema = StructType(\n",
    "    [\n",
    "        StructField(\"Model\", StringType(), True),\n",
    "        StructField(\"Year\", IntegerType(), True),\n",
    "        StructField(\"Region\", StringType(), True),\n",
    "        StructField(\"Color\", StringType(), True),\n",
    "        StructField(\"Fuel_Type\", StringType(), True),\n",
    "        StructField(\"Transmission\", StringType(), True),\n",
    "        StructField(\"Engine_Size_L\", DoubleType(), True),\n",
    "        StructField(\"Mileage_KM\", IntegerType(), True),\n",
    "        StructField(\"Price_USD\", IntegerType(), True),\n",
    "        StructField(\"Sales_Volume\", IntegerType(), True),\n",
    "        StructField(\"Sales_Classification\", StringType(), True),\n",
    "    ]\n",
    ")"
   ]
  },
  {
   "cell_type": "code",
   "execution_count": 9,
   "metadata": {},
   "outputs": [],
   "source": [
    "df = spark.read.csv(\n",
    "    path=\"dataset/BMW sales data (2010-2024).xls\",\n",
    "    schema=schema,\n",
    "    header=True,\n",
    "    mode=\"PERMISSIVE\",\n",
    ")"
   ]
  },
  {
   "cell_type": "code",
   "execution_count": 10,
   "metadata": {},
   "outputs": [
    {
     "data": {
      "text/plain": [
       "50000"
      ]
     },
     "execution_count": 10,
     "metadata": {},
     "output_type": "execute_result"
    }
   ],
   "source": [
    "df.count()"
   ]
  },
  {
   "cell_type": "code",
   "execution_count": 11,
   "metadata": {},
   "outputs": [
    {
     "name": "stdout",
     "output_type": "stream",
     "text": [
      "root\n",
      " |-- Model: string (nullable = true)\n",
      " |-- Year: integer (nullable = true)\n",
      " |-- Region: string (nullable = true)\n",
      " |-- Color: string (nullable = true)\n",
      " |-- Fuel_Type: string (nullable = true)\n",
      " |-- Transmission: string (nullable = true)\n",
      " |-- Engine_Size_L: double (nullable = true)\n",
      " |-- Mileage_KM: integer (nullable = true)\n",
      " |-- Price_USD: integer (nullable = true)\n",
      " |-- Sales_Volume: integer (nullable = true)\n",
      " |-- Sales_Classification: string (nullable = true)\n",
      "\n"
     ]
    }
   ],
   "source": [
    "df.printSchema()"
   ]
  },
  {
   "cell_type": "code",
   "execution_count": 12,
   "metadata": {},
   "outputs": [],
   "source": [
    "df.createOrReplaceTempView(\"BMW_dataset\")"
   ]
  },
  {
   "cell_type": "code",
   "execution_count": 15,
   "metadata": {},
   "outputs": [
    {
     "name": "stdout",
     "output_type": "stream",
     "text": [
      "+-------------+---------+\n",
      "|       region|avg_price|\n",
      "+-------------+---------+\n",
      "|         Asia| 75554.93|\n",
      "|North America| 75070.05|\n",
      "|       Europe| 74988.36|\n",
      "|South America|  74973.6|\n",
      "|       Africa| 74885.77|\n",
      "|  Middle East| 74726.79|\n",
      "+-------------+---------+\n",
      "\n"
     ]
    }
   ],
   "source": [
    "avg_price_per_region = spark.sql(\n",
    "    \"\"\"\n",
    "    select region, round(avg(price_usd), 2) as avg_price\n",
    "    from bmw_dataset\n",
    "    group by region\n",
    "    order by avg_price desc\n",
    "    \"\"\"\n",
    ")\n",
    "avg_price_per_region.show()"
   ]
  },
  {
   "cell_type": "code",
   "execution_count": 16,
   "metadata": {},
   "outputs": [
    {
     "name": "stdout",
     "output_type": "stream",
     "text": [
      "+--------+------------+\n",
      "|   model|sales_volume|\n",
      "+--------+------------+\n",
      "|7 Series|    23786466|\n",
      "|      i8|    23423891|\n",
      "|      X1|    23406060|\n",
      "|3 Series|    23281303|\n",
      "|      i3|    23133849|\n",
      "|5 Series|    23097519|\n",
      "|      M5|    22779688|\n",
      "|      X3|    22745529|\n",
      "|      X5|    22709749|\n",
      "|      X6|    22661986|\n",
      "|      M3|    22349694|\n",
      "+--------+------------+\n",
      "\n"
     ]
    }
   ],
   "source": [
    "top_selling_models = spark.sql(\n",
    "    \"\"\"\n",
    "    select model, sum(sales_volume) as sales_volume\n",
    "    from bmw_dataset\n",
    "    group by model\n",
    "    order by sales_volume desc\n",
    "    \"\"\"\n",
    ")\n",
    "top_selling_models.show()"
   ]
  },
  {
   "cell_type": "code",
   "execution_count": 19,
   "metadata": {},
   "outputs": [
    {
     "name": "stdout",
     "output_type": "stream",
     "text": [
      "+---------+----------+\n",
      "|fuel_type|no_of_cars|\n",
      "+---------+----------+\n",
      "|   Petrol|     12550|\n",
      "|   Hybrid|     12716|\n",
      "| Electric|     12471|\n",
      "|   Diesel|     12263|\n",
      "+---------+----------+\n",
      "\n"
     ]
    }
   ],
   "source": [
    "count_by_fuel_type = spark.sql(\n",
    "    \"\"\"\n",
    "    select fuel_type, count(model) no_of_cars\n",
    "    from bmw_dataset\n",
    "    group by fuel_type \n",
    "    order by fuel_type desc\n",
    "    \"\"\"\n",
    ")\n",
    "count_by_fuel_type.show()"
   ]
  },
  {
   "cell_type": "code",
   "execution_count": 27,
   "metadata": {},
   "outputs": [
    {
     "name": "stdout",
     "output_type": "stream",
     "text": [
      "+--------+----+----------+---------+\n",
      "|   model|year|mileage_km|price_usd|\n",
      "+--------+----+----------+---------+\n",
      "|      i8|2013|    165642|    30000|\n",
      "|      X5|2022|    100254|    30001|\n",
      "|5 Series|2015|    190634|    30002|\n",
      "|      M5|2020|    151258|    30010|\n",
      "|7 Series|2015|    169744|    30025|\n",
      "|      M3|2019|    118626|    30037|\n",
      "|      X1|2015|    174797|    30039|\n",
      "|      X5|2017|    152167|    30046|\n",
      "|      X1|2017|    162189|    30046|\n",
      "|      X3|2024|    134083|    30054|\n",
      "|      M3|2022|    178091|    30055|\n",
      "|      X1|2021|    179254|    30056|\n",
      "|      i3|2015|    178470|    30059|\n",
      "|      i3|2014|    151719|    30061|\n",
      "|      M3|2014|    179483|    30062|\n",
      "|      i3|2024|    116337|    30067|\n",
      "|7 Series|2016|    114482|    30068|\n",
      "|3 Series|2013|    162509|    30068|\n",
      "|      X1|2013|    115667|    30069|\n",
      "|      X3|2010|    115565|    30075|\n",
      "+--------+----+----------+---------+\n",
      "only showing top 20 rows\n"
     ]
    }
   ],
   "source": [
    "high_mil_low_price = spark.sql(\n",
    "    \"\"\"\n",
    "    select model, year, mileage_km, price_usd\n",
    "    from bmw_dataset\n",
    "    where mileage_km >= 100000 \n",
    "          and\n",
    "          price_usd <= 40000 \n",
    "    order by price_usd asc\n",
    "    \"\"\"\n",
    ")\n",
    "high_mil_low_price.show()"
   ]
  },
  {
   "cell_type": "code",
   "execution_count": 34,
   "metadata": {},
   "outputs": [
    {
     "name": "stdout",
     "output_type": "stream",
     "text": [
      "+-------------+-------+----------+\n",
      "|       region|manuals|automatics|\n",
      "+-------------+-------+----------+\n",
      "|       Europe|   4217|      4117|\n",
      "|       Africa|   4132|      4121|\n",
      "|North America|   4163|      4172|\n",
      "|South America|   4218|      4033|\n",
      "|  Middle East|   4228|      4145|\n",
      "|         Asia|   4196|      4258|\n",
      "+-------------+-------+----------+\n",
      "\n"
     ]
    }
   ],
   "source": [
    "transmission_distr_per_region = spark.sql(\n",
    "    \"\"\"\n",
    "    select region, \n",
    "           sum(case when transmission = 'Manual' then 1 else 0 end) as manuals,\n",
    "           sum(case when transmission = 'Automatic' then 1 else 0 end) as automatics\n",
    "    from bmw_dataset\n",
    "    group by region    \n",
    "    \"\"\"\n",
    ")\n",
    "transmission_distr_per_region.show()"
   ]
  },
  {
   "cell_type": "code",
   "execution_count": 51,
   "metadata": {},
   "outputs": [
    {
     "name": "stdout",
     "output_type": "stream",
     "text": [
      "+---------+----+---------------+\n",
      "|fuel_type|year|avg_engine_size|\n",
      "+---------+----+---------------+\n",
      "|   Diesel|2015|           3.31|\n",
      "|   Petrol|2015|           3.23|\n",
      "|   Hybrid|2015|           3.27|\n",
      "| Electric|2015|           3.18|\n",
      "|   Diesel|2016|           3.22|\n",
      "|   Hybrid|2016|           3.26|\n",
      "| Electric|2016|           3.27|\n",
      "|   Petrol|2016|           3.25|\n",
      "| Electric|2017|           3.23|\n",
      "|   Petrol|2017|            3.3|\n",
      "|   Hybrid|2017|           3.21|\n",
      "|   Diesel|2017|           3.26|\n",
      "|   Petrol|2018|           3.26|\n",
      "|   Hybrid|2018|           3.22|\n",
      "|   Diesel|2018|           3.24|\n",
      "| Electric|2018|           3.22|\n",
      "|   Petrol|2019|           3.23|\n",
      "|   Hybrid|2019|           3.19|\n",
      "|   Diesel|2019|            3.3|\n",
      "| Electric|2019|           3.22|\n",
      "+---------+----+---------------+\n",
      "only showing top 20 rows\n"
     ]
    }
   ],
   "source": [
    "engine_size_analysis = spark.sql(\n",
    "    \"\"\"\n",
    "    select fuel_type,\n",
    "        cast(year as int) as year,\n",
    "        round(avg(cast(engine_size_l as double)), 2) as avg_engine_size\n",
    "    from bmw_dataset\n",
    "    where cast(year as int) >= 2015\n",
    "    group by fuel_type, cast(year as int)\n",
    "    order by year asc\n",
    "    \"\"\"\n",
    ")\n",
    "engine_size_analysis.show()"
   ]
  },
  {
   "cell_type": "markdown",
   "metadata": {},
   "source": [
    "Since I group by both fuel_type and year, I am expected to get multiple rows per year (one per fuel type). If you want only one row per year, you need to drop `fuel_type` from group by.\n",
    "\n",
    "Besides this, I also have casted them to double and integers. I had already provided schema, but who knows what can happen?:) "
   ]
  },
  {
   "cell_type": "code",
   "execution_count": 63,
   "metadata": {},
   "outputs": [
    {
     "name": "stdout",
     "output_type": "stream",
     "text": [
      "+-------------+------+------------+\n",
      "|       region| color|no_of_models|\n",
      "+-------------+------+------------+\n",
      "|       Europe| Black|        1473|\n",
      "|North America|   Red|        1461|\n",
      "|         Asia| Black|        1460|\n",
      "|North America|Silver|        1435|\n",
      "|  Middle East|  Grey|        1429|\n",
      "+-------------+------+------------+\n",
      "only showing top 5 rows\n"
     ]
    }
   ],
   "source": [
    "popular_color_per_region = spark.sql(\n",
    "    \"\"\"\n",
    "    select region, color, count(model) no_of_models\n",
    "    from bmw_dataset\n",
    "    group by region, color\n",
    "    order by no_of_models desc\n",
    "\"\"\"\n",
    ")\n",
    "popular_color_per_region.show(5)"
   ]
  },
  {
   "cell_type": "code",
   "execution_count": 62,
   "metadata": {},
   "outputs": [
    {
     "name": "stdout",
     "output_type": "stream",
     "text": [
      "+----+------------+\n",
      "|year|sales_volume|\n",
      "+----+------------+\n",
      "|2022|    17920946|\n",
      "|2024|    17527854|\n",
      "|2019|    17191956|\n",
      "|2015|    17010207|\n",
      "|2014|    16958960|\n",
      "+----+------------+\n",
      "only showing top 5 rows\n"
     ]
    }
   ],
   "source": [
    "yearly_sales = spark.sql(\n",
    "    \"\"\"\n",
    "    select year, sum(sales_volume) as sales_volume\n",
    "    from bmw_dataset\n",
    "    group by year\n",
    "    order by sales_volume desc\n",
    "    \"\"\"\n",
    ")\n",
    "yearly_sales.show(5)"
   ]
  },
  {
   "cell_type": "markdown",
   "metadata": {},
   "source": [
    "At this point, I finally understood that the data is **synthetic/unrealistic.**"
   ]
  },
  {
   "cell_type": "code",
   "execution_count": null,
   "metadata": {},
   "outputs": [],
   "source": []
  }
 ],
 "metadata": {
  "kernelspec": {
   "display_name": "kaggle_experiments",
   "language": "python",
   "name": "python3"
  },
  "language_info": {
   "codemirror_mode": {
    "name": "ipython",
    "version": 3
   },
   "file_extension": ".py",
   "mimetype": "text/x-python",
   "name": "python",
   "nbconvert_exporter": "python",
   "pygments_lexer": "ipython3",
   "version": "3.13.7"
  }
 },
 "nbformat": 4,
 "nbformat_minor": 2
}
