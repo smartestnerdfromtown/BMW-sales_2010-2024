{
 "cells": [
  {
   "cell_type": "code",
   "execution_count": 1,
   "metadata": {},
   "outputs": [],
   "source": [
    "from pyspark.sql import SparkSession\n",
    "from pyspark.sql.types import (\n",
    "    StructType,\n",
    "    StructField,\n",
    "    StringType,\n",
    "    IntegerType,\n",
    "    DoubleType,\n",
    ")"
   ]
  },
  {
   "cell_type": "code",
   "execution_count": 7,
   "metadata": {},
   "outputs": [],
   "source": [
    "spark = SparkSession.builder.appName(\"BMW Sales Analysis\").getOrCreate()\n",
    "spark.sparkContext.setLogLevel(\"ERROR\")"
   ]
  },
  {
   "cell_type": "code",
   "execution_count": 8,
   "metadata": {},
   "outputs": [],
   "source": [
    "schema = StructType(\n",
    "    [\n",
    "        StructField(\"Model\", StringType(), True),\n",
    "        StructField(\"Year\", IntegerType(), True),\n",
    "        StructField(\"Region\", StringType(), True),\n",
    "        StructField(\"Color\", StringType(), True),\n",
    "        StructField(\"Fuel_Type\", StringType(), True),\n",
    "        StructField(\"Transmission\", StringType(), True),\n",
    "        StructField(\"Engine_Size_L\", DoubleType(), True),\n",
    "        StructField(\"Mileage_KM\", IntegerType(), True),\n",
    "        StructField(\"Price_USD\", IntegerType(), True),\n",
    "        StructField(\"Sales_Volume\", IntegerType(), True),\n",
    "        StructField(\"Sales_Classification\", StringType(), True),\n",
    "    ]\n",
    ")"
   ]
  },
  {
   "cell_type": "code",
   "execution_count": 9,
   "metadata": {},
   "outputs": [],
   "source": [
    "df = spark.read.csv(\n",
    "    path=\"dataset/BMW sales data (2010-2024).xls\",\n",
    "    schema=schema,\n",
    "    header=True,\n",
    "    mode=\"PERMISSIVE\",\n",
    ")"
   ]
  },
  {
   "cell_type": "code",
   "execution_count": 10,
   "metadata": {},
   "outputs": [
    {
     "data": {
      "text/plain": [
       "50000"
      ]
     },
     "execution_count": 10,
     "metadata": {},
     "output_type": "execute_result"
    }
   ],
   "source": [
    "df.count()"
   ]
  },
  {
   "cell_type": "code",
   "execution_count": 11,
   "metadata": {},
   "outputs": [
    {
     "name": "stdout",
     "output_type": "stream",
     "text": [
      "root\n",
      " |-- Model: string (nullable = true)\n",
      " |-- Year: integer (nullable = true)\n",
      " |-- Region: string (nullable = true)\n",
      " |-- Color: string (nullable = true)\n",
      " |-- Fuel_Type: string (nullable = true)\n",
      " |-- Transmission: string (nullable = true)\n",
      " |-- Engine_Size_L: double (nullable = true)\n",
      " |-- Mileage_KM: integer (nullable = true)\n",
      " |-- Price_USD: integer (nullable = true)\n",
      " |-- Sales_Volume: integer (nullable = true)\n",
      " |-- Sales_Classification: string (nullable = true)\n",
      "\n"
     ]
    }
   ],
   "source": [
    "df.printSchema()"
   ]
  },
  {
   "cell_type": "code",
   "execution_count": 12,
   "metadata": {},
   "outputs": [],
   "source": [
    "df.createOrReplaceTempView(\"BMW_dataset\")"
   ]
  },
  {
   "cell_type": "code",
   "execution_count": 15,
   "metadata": {},
   "outputs": [
    {
     "name": "stdout",
     "output_type": "stream",
     "text": [
      "+-------------+---------+\n",
      "|       region|avg_price|\n",
      "+-------------+---------+\n",
      "|         Asia| 75554.93|\n",
      "|North America| 75070.05|\n",
      "|       Europe| 74988.36|\n",
      "|South America|  74973.6|\n",
      "|       Africa| 74885.77|\n",
      "|  Middle East| 74726.79|\n",
      "+-------------+---------+\n",
      "\n"
     ]
    }
   ],
   "source": [
    "avg_price_per_region = spark.sql(\n",
    "    \"\"\"\n",
    "    select region, round(avg(price_usd), 2) as avg_price\n",
    "    from bmw_dataset\n",
    "    group by region\n",
    "    order by avg_price desc\n",
    "    \"\"\"\n",
    ")\n",
    "avg_price_per_region.show()"
   ]
  },
  {
   "cell_type": "code",
   "execution_count": 16,
   "metadata": {},
   "outputs": [
    {
     "name": "stdout",
     "output_type": "stream",
     "text": [
      "+--------+------------+\n",
      "|   model|sales_volume|\n",
      "+--------+------------+\n",
      "|7 Series|    23786466|\n",
      "|      i8|    23423891|\n",
      "|      X1|    23406060|\n",
      "|3 Series|    23281303|\n",
      "|      i3|    23133849|\n",
      "|5 Series|    23097519|\n",
      "|      M5|    22779688|\n",
      "|      X3|    22745529|\n",
      "|      X5|    22709749|\n",
      "|      X6|    22661986|\n",
      "|      M3|    22349694|\n",
      "+--------+------------+\n",
      "\n"
     ]
    }
   ],
   "source": [
    "top_selling_models = spark.sql(\n",
    "    \"\"\"\n",
    "    select model, sum(sales_volume) as sales_volume\n",
    "    from bmw_dataset\n",
    "    group by model\n",
    "    order by sales_volume desc\n",
    "    \"\"\"\n",
    ")\n",
    "top_selling_models.show()"
   ]
  },
  {
   "cell_type": "code",
   "execution_count": null,
   "metadata": {},
   "outputs": [],
   "source": []
  }
 ],
 "metadata": {
  "kernelspec": {
   "display_name": "kaggle_experiments",
   "language": "python",
   "name": "python3"
  },
  "language_info": {
   "codemirror_mode": {
    "name": "ipython",
    "version": 3
   },
   "file_extension": ".py",
   "mimetype": "text/x-python",
   "name": "python",
   "nbconvert_exporter": "python",
   "pygments_lexer": "ipython3",
   "version": "3.13.7"
  }
 },
 "nbformat": 4,
 "nbformat_minor": 2
}
